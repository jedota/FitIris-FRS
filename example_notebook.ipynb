{
 "cells": [
  {
   "cell_type": "code",
   "execution_count": 1,
   "metadata": {},
   "outputs": [
    {
     "name": "stdout",
     "output_type": "stream",
     "text": [
      "now: 2025-03-27_12:29:15\n"
     ]
    }
   ],
   "source": [
    "import os\n",
    "import datetime\n",
    "import pandas as pd\n",
    "import numpy as np\n",
    "from tqdm.auto import tqdm\n",
    "\n",
    "import torch as th\n",
    "import torch.nn as nn\n",
    "import torchvision as tv\n",
    "from torchvision.transforms import v2\n",
    "from torchvision.datasets import ImageFolder\n",
    "from torch.utils.data import DataLoader\n",
    "\n",
    "from ModelsHead import FinalHead\n",
    "\n",
    "now = datetime.datetime.now().strftime('%Y-%m-%d_%H:%M:%S')\n",
    "print(f\"now: {now}\")"
   ]
  },
  {
   "cell_type": "code",
   "execution_count": 2,
   "metadata": {},
   "outputs": [],
   "source": [
    "def read_feature_files_recursively(directory):\n",
    "    # Initialize an empty list to store DataFrames\n",
    "    dfs = []\n",
    "    \n",
    "    # Walk through the directory recursively\n",
    "    for root, dirs, files in os.walk(directory):\n",
    "        for file in files:\n",
    "            if file.endswith('.ada'):  # Check the file extension\n",
    "                file_path = os.path.join(root, file)\n",
    "                try:\n",
    "                    # Read the file into a DataFrame\n",
    "                    df = pd.read_csv(file_path, header=None)\n",
    "                    df = df.T  # Transpose the file before appending\n",
    "                    \n",
    "                    # Add a new column 'file_name' to the DataFrame with the name of the file\n",
    "                    df['file_name'] = file  # Add the file name as a new column\n",
    "                    \n",
    "                    # Reorder columns to place 'file_name' at the beginning\n",
    "                    cols = ['file_name'] + [col for col in df.columns if col != 'file_name']\n",
    "                    df = df[cols]\n",
    "                    \n",
    "                    # Append the DataFrame to the list\n",
    "                    dfs.append(df)\n",
    "                    print(f\"Successfully read: {file_path}\")\n",
    "                except Exception as e:\n",
    "                    print(f\"Error reading {file_path}: {e}\")\n",
    "    \n",
    "    # Concatenate all DataFrames into a single DataFrame\n",
    "    if dfs:\n",
    "        full_df = pd.concat(dfs, ignore_index=True)\n",
    "        return full_df\n",
    "    else:\n",
    "        return None"
   ]
  },
  {
   "cell_type": "code",
   "execution_count": 3,
   "metadata": {},
   "outputs": [
    {
     "name": "stdout",
     "output_type": "stream",
     "text": [
      "Successfully read: ../project_github/adaface_features\\subject_a.ada\n",
      "Successfully read: ../project_github/adaface_features\\subject_b.ada\n",
      "       file_name         0         1         2         3         4         5  \\\n",
      "0  subject_a.ada -0.057427  0.046010  0.034182 -0.023349  0.016623 -0.047561   \n",
      "1  subject_b.ada -0.034507  0.033995  0.046838 -0.040003 -0.011384 -0.046809   \n",
      "\n",
      "          6         7         8  ...       502       503       504       505  \\\n",
      "0  0.030808  0.019102  0.041033  ...  0.032285 -0.040341 -0.049573  0.030847   \n",
      "1  0.036195 -0.004844  0.071372  ... -0.019667  0.022785 -0.045279  0.015532   \n",
      "\n",
      "        506       507       508       509       510       511  \n",
      "0 -0.014491 -0.015417 -0.020143 -0.008159 -0.045846  0.015754  \n",
      "1  0.011882 -0.002304 -0.032385  0.018751 -0.024523  0.032486  \n",
      "\n",
      "[2 rows x 513 columns]\n"
     ]
    }
   ],
   "source": [
    "directory = '../project_github/adaface_features'\n",
    "df = read_feature_files_recursively(directory)\n",
    "\n",
    "# Check the result\n",
    "if df is not None:\n",
    "    print(df.head())  # Display the first few rows of the combined DataFrame\n",
    "else:\n",
    "    print(\"No CSV files found.\")"
   ]
  },
  {
   "cell_type": "code",
   "execution_count": 4,
   "metadata": {},
   "outputs": [
    {
     "name": "stderr",
     "output_type": "stream",
     "text": [
      "C:\\Users\\BenaventeD\\AppData\\Local\\Temp\\ipykernel_4516\\1157339066.py:2: SettingWithCopyWarning: \n",
      "A value is trying to be set on a copy of a slice from a DataFrame.\n",
      "Try using .loc[row_indexer,col_indexer] = value instead\n",
      "\n",
      "See the caveats in the documentation: https://pandas.pydata.org/pandas-docs/stable/user_guide/indexing.html#returning-a-view-versus-a-copy\n",
      "  df_file_name[\"file_name\"] = df_file_name[\"file_name\"].str.split(\".\", expand=True).iloc[:,0]\n"
     ]
    },
    {
     "data": {
      "text/html": [
       "<div>\n",
       "<style scoped>\n",
       "    .dataframe tbody tr th:only-of-type {\n",
       "        vertical-align: middle;\n",
       "    }\n",
       "\n",
       "    .dataframe tbody tr th {\n",
       "        vertical-align: top;\n",
       "    }\n",
       "\n",
       "    .dataframe thead th {\n",
       "        text-align: right;\n",
       "    }\n",
       "</style>\n",
       "<table border=\"1\" class=\"dataframe\">\n",
       "  <thead>\n",
       "    <tr style=\"text-align: right;\">\n",
       "      <th></th>\n",
       "      <th>file_name</th>\n",
       "      <th>adaface_feat0</th>\n",
       "      <th>adaface_feat1</th>\n",
       "      <th>adaface_feat2</th>\n",
       "      <th>adaface_feat3</th>\n",
       "      <th>adaface_feat4</th>\n",
       "      <th>adaface_feat5</th>\n",
       "      <th>adaface_feat6</th>\n",
       "      <th>adaface_feat7</th>\n",
       "      <th>adaface_feat8</th>\n",
       "      <th>...</th>\n",
       "      <th>adaface_feat503</th>\n",
       "      <th>adaface_feat504</th>\n",
       "      <th>adaface_feat505</th>\n",
       "      <th>adaface_feat506</th>\n",
       "      <th>adaface_feat507</th>\n",
       "      <th>adaface_feat508</th>\n",
       "      <th>adaface_feat509</th>\n",
       "      <th>adaface_feat510</th>\n",
       "      <th>adaface_feat511</th>\n",
       "      <th>labels</th>\n",
       "    </tr>\n",
       "  </thead>\n",
       "  <tbody>\n",
       "    <tr>\n",
       "      <th>0</th>\n",
       "      <td>subject_a</td>\n",
       "      <td>-0.057427</td>\n",
       "      <td>0.046010</td>\n",
       "      <td>0.034182</td>\n",
       "      <td>-0.023349</td>\n",
       "      <td>0.016623</td>\n",
       "      <td>-0.047561</td>\n",
       "      <td>0.030808</td>\n",
       "      <td>0.019102</td>\n",
       "      <td>0.041033</td>\n",
       "      <td>...</td>\n",
       "      <td>-0.040341</td>\n",
       "      <td>-0.049573</td>\n",
       "      <td>0.030847</td>\n",
       "      <td>-0.014491</td>\n",
       "      <td>-0.015417</td>\n",
       "      <td>-0.020143</td>\n",
       "      <td>-0.008159</td>\n",
       "      <td>-0.045846</td>\n",
       "      <td>0.015754</td>\n",
       "      <td>0.0</td>\n",
       "    </tr>\n",
       "    <tr>\n",
       "      <th>1</th>\n",
       "      <td>subject_b</td>\n",
       "      <td>-0.034507</td>\n",
       "      <td>0.033995</td>\n",
       "      <td>0.046838</td>\n",
       "      <td>-0.040003</td>\n",
       "      <td>-0.011384</td>\n",
       "      <td>-0.046809</td>\n",
       "      <td>0.036195</td>\n",
       "      <td>-0.004844</td>\n",
       "      <td>0.071372</td>\n",
       "      <td>...</td>\n",
       "      <td>0.022785</td>\n",
       "      <td>-0.045279</td>\n",
       "      <td>0.015532</td>\n",
       "      <td>0.011882</td>\n",
       "      <td>-0.002304</td>\n",
       "      <td>-0.032385</td>\n",
       "      <td>0.018751</td>\n",
       "      <td>-0.024523</td>\n",
       "      <td>0.032486</td>\n",
       "      <td>1.0</td>\n",
       "    </tr>\n",
       "  </tbody>\n",
       "</table>\n",
       "<p>2 rows × 514 columns</p>\n",
       "</div>"
      ],
      "text/plain": [
       "   file_name  adaface_feat0  adaface_feat1  adaface_feat2  adaface_feat3  \\\n",
       "0  subject_a      -0.057427       0.046010       0.034182      -0.023349   \n",
       "1  subject_b      -0.034507       0.033995       0.046838      -0.040003   \n",
       "\n",
       "   adaface_feat4  adaface_feat5  adaface_feat6  adaface_feat7  adaface_feat8  \\\n",
       "0       0.016623      -0.047561       0.030808       0.019102       0.041033   \n",
       "1      -0.011384      -0.046809       0.036195      -0.004844       0.071372   \n",
       "\n",
       "   ...  adaface_feat503  adaface_feat504  adaface_feat505  adaface_feat506  \\\n",
       "0  ...        -0.040341        -0.049573         0.030847        -0.014491   \n",
       "1  ...         0.022785        -0.045279         0.015532         0.011882   \n",
       "\n",
       "   adaface_feat507  adaface_feat508  adaface_feat509  adaface_feat510  \\\n",
       "0        -0.015417        -0.020143        -0.008159        -0.045846   \n",
       "1        -0.002304        -0.032385         0.018751        -0.024523   \n",
       "\n",
       "   adaface_feat511  labels  \n",
       "0         0.015754     0.0  \n",
       "1         0.032486     1.0  \n",
       "\n",
       "[2 rows x 514 columns]"
      ]
     },
     "execution_count": 4,
     "metadata": {},
     "output_type": "execute_result"
    }
   ],
   "source": [
    "df_file_name = df[[\"file_name\"]]\n",
    "df_file_name[\"file_name\"] = df_file_name[\"file_name\"].str.split(\".\", expand=True).iloc[:,0]\n",
    "\n",
    "df_features = df.iloc[:,1:]\n",
    "\n",
    "data = {\"labels\": [0.0, 1.0]}\n",
    "df_labels = pd.DataFrame(data)\n",
    "\n",
    "df_features.columns = [\"adaface_feat\" + str(col) for col in df_features.columns]\n",
    "df = pd.concat([df_file_name, df_features, df_labels], axis=1)\n",
    "\n",
    "df"
   ]
  },
  {
   "cell_type": "code",
   "execution_count": 5,
   "metadata": {},
   "outputs": [
    {
     "data": {
      "text/plain": [
       "tensor([[-0.0574,  0.0460,  0.0342,  ..., -0.0082, -0.0458,  0.0158],\n",
       "        [-0.0345,  0.0340,  0.0468,  ...,  0.0188, -0.0245,  0.0325]])"
      ]
     },
     "execution_count": 5,
     "metadata": {},
     "output_type": "execute_result"
    }
   ],
   "source": [
    "tensor_features = th.tensor(df_features.values, dtype=th.float32)\n",
    "tensor_features"
   ]
  },
  {
   "cell_type": "code",
   "execution_count": 6,
   "metadata": {},
   "outputs": [
    {
     "name": "stdout",
     "output_type": "stream",
     "text": [
      "device: cpu\n"
     ]
    }
   ],
   "source": [
    "if th.cuda.is_available():\n",
    "  device = \"cuda:0\"\n",
    "else:\n",
    "  device = \"cpu\"\n",
    "print(\"device:\",device)"
   ]
  },
  {
   "cell_type": "code",
   "execution_count": 7,
   "metadata": {},
   "outputs": [],
   "source": [
    "model_frs = FinalHead(512, 1,\n",
    "                  True)\n",
    "\n",
    "# model = model.to(th.float64)"
   ]
  },
  {
   "cell_type": "code",
   "execution_count": 8,
   "metadata": {},
   "outputs": [
    {
     "data": {
      "text/plain": [
       "tensor([-0.1292], grad_fn=<ViewBackward0>)"
      ]
     },
     "execution_count": 8,
     "metadata": {},
     "output_type": "execute_result"
    }
   ],
   "source": [
    "model_frs(tensor_features[0])"
   ]
  },
  {
   "cell_type": "code",
   "execution_count": 9,
   "metadata": {},
   "outputs": [
    {
     "name": "stdout",
     "output_type": "stream",
     "text": [
      "[INFO] testing iris FFD estimation...2025-03-27_12:29:15\n",
      "[INFO] end time... 2025-03-27_12:29:15\n",
      "[INFO] running time... 0:00:00.001878\n"
     ]
    }
   ],
   "source": [
    "num_epochs = 1\n",
    "\n",
    "\n",
    "startTime = datetime.datetime.now()\n",
    "startTime_str = datetime.datetime.now().strftime('%Y-%m-%d_%H:%M:%S')\n",
    "print(f\"[INFO] testing iris FFD estimation...{startTime_str}\")\n",
    "\n",
    "model_frs.eval()\n",
    "scores = []\n",
    "file_names = []\n",
    "lab=[]\n",
    "label_output = []\n",
    "\n",
    "with th.no_grad():\n",
    "    for epoch in range(num_epochs):\n",
    "\n",
    "        batch = tensor_features.to(device)\n",
    "        # labels = labels.to(device)\n",
    "\n",
    "        transformed = model_frs.forward(batch)\n",
    "        label_preds = (transformed.detach().cpu() >= .5).float().tolist()\n",
    "        # label_preds = 1 if th.sigmoid(transformed).detach().cpu() > 0.5 else 0 #th.argmax(transformed, dim=1)\n",
    "        scores.append(th.sigmoid(transformed).detach().cpu().tolist())\n",
    "        # lab.append(labels.detach().cpu().tolist())\n",
    "        label_output.append(label_preds)\n",
    "        # file_names.append(df_file_name.values) # cambio de objeto: file to file[0] otherwise the result of the file name is a list of one element (the name of the file lol...)\n",
    "    \n",
    "\n",
    "endTime = datetime.datetime.now()\n",
    "endTime_str = endTime.strftime('%Y-%m-%d_%H:%M:%S')\n",
    "print(\"[INFO] end time...\", str(endTime_str))\n",
    "finish_time = endTime-startTime\n",
    "print(\"[INFO] running time...\", str(finish_time))"
   ]
  },
  {
   "cell_type": "code",
   "execution_count": 10,
   "metadata": {},
   "outputs": [
    {
     "data": {
      "text/plain": [
       "[0.46775510907173157, 0.4683072566986084]"
      ]
     },
     "execution_count": 10,
     "metadata": {},
     "output_type": "execute_result"
    }
   ],
   "source": [
    "scores = [item[0] for sublist in scores for item in sublist]\n",
    "scores"
   ]
  },
  {
   "cell_type": "code",
   "execution_count": 11,
   "metadata": {},
   "outputs": [
    {
     "data": {
      "text/plain": [
       "[0.0, 0.0]"
      ]
     },
     "execution_count": 11,
     "metadata": {},
     "output_type": "execute_result"
    }
   ],
   "source": [
    "label_output = [item[0] for sublist in label_output for item in sublist]\n",
    "label_output"
   ]
  },
  {
   "cell_type": "code",
   "execution_count": 12,
   "metadata": {},
   "outputs": [
    {
     "data": {
      "text/html": [
       "<div>\n",
       "<style scoped>\n",
       "    .dataframe tbody tr th:only-of-type {\n",
       "        vertical-align: middle;\n",
       "    }\n",
       "\n",
       "    .dataframe tbody tr th {\n",
       "        vertical-align: top;\n",
       "    }\n",
       "\n",
       "    .dataframe thead th {\n",
       "        text-align: right;\n",
       "    }\n",
       "</style>\n",
       "<table border=\"1\" class=\"dataframe\">\n",
       "  <thead>\n",
       "    <tr style=\"text-align: right;\">\n",
       "      <th></th>\n",
       "      <th>frs-scores</th>\n",
       "    </tr>\n",
       "  </thead>\n",
       "  <tbody>\n",
       "    <tr>\n",
       "      <th>0</th>\n",
       "      <td>0.467755</td>\n",
       "    </tr>\n",
       "    <tr>\n",
       "      <th>1</th>\n",
       "      <td>0.468307</td>\n",
       "    </tr>\n",
       "  </tbody>\n",
       "</table>\n",
       "</div>"
      ],
      "text/plain": [
       "   frs-scores\n",
       "0    0.467755\n",
       "1    0.468307"
      ]
     },
     "execution_count": 12,
     "metadata": {},
     "output_type": "execute_result"
    }
   ],
   "source": [
    "df_scores = pd.DataFrame(scores, columns=[\"frs-scores\"])\n",
    "df_scores"
   ]
  },
  {
   "cell_type": "code",
   "execution_count": 13,
   "metadata": {},
   "outputs": [
    {
     "data": {
      "text/html": [
       "<div>\n",
       "<style scoped>\n",
       "    .dataframe tbody tr th:only-of-type {\n",
       "        vertical-align: middle;\n",
       "    }\n",
       "\n",
       "    .dataframe tbody tr th {\n",
       "        vertical-align: top;\n",
       "    }\n",
       "\n",
       "    .dataframe thead th {\n",
       "        text-align: right;\n",
       "    }\n",
       "</style>\n",
       "<table border=\"1\" class=\"dataframe\">\n",
       "  <thead>\n",
       "    <tr style=\"text-align: right;\">\n",
       "      <th></th>\n",
       "      <th>pred-lab</th>\n",
       "    </tr>\n",
       "  </thead>\n",
       "  <tbody>\n",
       "    <tr>\n",
       "      <th>0</th>\n",
       "      <td>0.0</td>\n",
       "    </tr>\n",
       "    <tr>\n",
       "      <th>1</th>\n",
       "      <td>0.0</td>\n",
       "    </tr>\n",
       "  </tbody>\n",
       "</table>\n",
       "</div>"
      ],
      "text/plain": [
       "   pred-lab\n",
       "0       0.0\n",
       "1       0.0"
      ]
     },
     "execution_count": 13,
     "metadata": {},
     "output_type": "execute_result"
    }
   ],
   "source": [
    "df_pred_lab = pd.DataFrame(label_output, columns=[\"pred-lab\"])\n",
    "df_pred_lab\n"
   ]
  },
  {
   "cell_type": "code",
   "execution_count": 14,
   "metadata": {},
   "outputs": [
    {
     "data": {
      "text/html": [
       "<div>\n",
       "<style scoped>\n",
       "    .dataframe tbody tr th:only-of-type {\n",
       "        vertical-align: middle;\n",
       "    }\n",
       "\n",
       "    .dataframe tbody tr th {\n",
       "        vertical-align: top;\n",
       "    }\n",
       "\n",
       "    .dataframe thead th {\n",
       "        text-align: right;\n",
       "    }\n",
       "</style>\n",
       "<table border=\"1\" class=\"dataframe\">\n",
       "  <thead>\n",
       "    <tr style=\"text-align: right;\">\n",
       "      <th></th>\n",
       "      <th>file_name</th>\n",
       "      <th>labels</th>\n",
       "      <th>frs-scores</th>\n",
       "    </tr>\n",
       "  </thead>\n",
       "  <tbody>\n",
       "    <tr>\n",
       "      <th>0</th>\n",
       "      <td>subject_a</td>\n",
       "      <td>0.0</td>\n",
       "      <td>0.467755</td>\n",
       "    </tr>\n",
       "    <tr>\n",
       "      <th>1</th>\n",
       "      <td>subject_b</td>\n",
       "      <td>1.0</td>\n",
       "      <td>0.468307</td>\n",
       "    </tr>\n",
       "  </tbody>\n",
       "</table>\n",
       "</div>"
      ],
      "text/plain": [
       "   file_name  labels  frs-scores\n",
       "0  subject_a     0.0    0.467755\n",
       "1  subject_b     1.0    0.468307"
      ]
     },
     "execution_count": 14,
     "metadata": {},
     "output_type": "execute_result"
    }
   ],
   "source": [
    "pred_df = pd.concat([df_file_name, df_labels, df_scores], axis=1)\n",
    "pred_df"
   ]
  },
  {
   "cell_type": "markdown",
   "metadata": {},
   "source": [
    "#### **EffB2 FFD estimation**\n",
    "_____"
   ]
  },
  {
   "cell_type": "code",
   "execution_count": 15,
   "metadata": {},
   "outputs": [],
   "source": [
    "model_eff =  tv.models.efficientnet_b2()\n",
    "\n",
    "model_eff.classifier = nn.Sequential(\n",
    "                                                nn.Linear(in_features=1408, out_features=512, bias=True),\n",
    "                                                nn.Linear(in_features=512, out_features=256, bias=True),\n",
    "                                                nn.ReLU(),\n",
    "                                                nn.Linear(in_features=256, out_features=128, bias=True),\n",
    "                                                nn.ReLU(),\n",
    "                                                nn.Linear(in_features=128, out_features=64, bias=True),\n",
    "                                                nn.ReLU(),\n",
    "                                                nn.Linear(in_features=64, out_features=1, bias=True),\n",
    "                                                )"
   ]
  },
  {
   "cell_type": "code",
   "execution_count": 16,
   "metadata": {},
   "outputs": [
    {
     "name": "stderr",
     "output_type": "stream",
     "text": [
      "c:\\Users\\BenaventeD\\anaconda3\\envs\\FitIris-FRS\\Lib\\site-packages\\torchvision\\transforms\\v2\\_deprecated.py:42: UserWarning: The transform `ToTensor()` is deprecated and will be removed in a future release. Instead, please use `v2.Compose([v2.ToImage(), v2.ToDtype(torch.float32, scale=True)])`.Output is equivalent up to float precision.\n",
      "  warnings.warn(\n"
     ]
    }
   ],
   "source": [
    "data_path = \"../project_github/img_examples\"\n",
    "\n",
    "transf_ = v2.Compose([\n",
    "    v2.ToTensor(),  # Ensure that images are converted to tensors\n",
    "    v2.Normalize(mean=[0.485, 0.456, 0.406], std=[0.229, 0.224, 0.225])  # Normalize using ImageNet values])\n",
    "])\n",
    "\n",
    "data_ = ImageFolder(root=data_path, transform=transf_) # Load images from the folder without transformations\n",
    "train_loader = DataLoader(data_, batch_size=1)"
   ]
  },
  {
   "cell_type": "code",
   "execution_count": 17,
   "metadata": {},
   "outputs": [
    {
     "name": "stdout",
     "output_type": "stream",
     "text": [
      "torch.Size([1, 3, 112, 112])\n",
      "torch.Size([1])\n"
     ]
    }
   ],
   "source": [
    "# Example of iterating through the train_loader\n",
    "for inputs, labels in train_loader:\n",
    "    print(inputs.shape)  # Shape of the input batch (e.g., [32, 3, 224, 224])\n",
    "    print(labels.shape)  # Shape of the labels batch (e.g., [32])\n",
    "    break  # Just to check the first batch"
   ]
  },
  {
   "cell_type": "code",
   "execution_count": 18,
   "metadata": {},
   "outputs": [
    {
     "name": "stdout",
     "output_type": "stream",
     "text": [
      "[INFO] testing iris FFD estimation...2025-03-27_12:29:15\n"
     ]
    },
    {
     "data": {
      "application/vnd.jupyter.widget-view+json": {
       "model_id": "ab46e044aad64d8ba764a5eee33f83ca",
       "version_major": 2,
       "version_minor": 0
      },
      "text/plain": [
       "Batch:   0%|          | 0/2 [00:00<?, ?it/s]"
      ]
     },
     "metadata": {},
     "output_type": "display_data"
    },
    {
     "name": "stdout",
     "output_type": "stream",
     "text": [
      "[INFO] end time... 2025-03-27_12:29:15\n",
      "[INFO] running time... 0:00:00.087352\n"
     ]
    }
   ],
   "source": [
    "num_epochs = 1\n",
    "\n",
    "\n",
    "startTime = datetime.datetime.now()\n",
    "startTime_str = datetime.datetime.now().strftime('%Y-%m-%d_%H:%M:%S')\n",
    "print(f\"[INFO] testing iris FFD estimation...{startTime_str}\")\n",
    "\n",
    "model_eff.eval()\n",
    "scores = []\n",
    "file_names = []\n",
    "lab=[]\n",
    "label_output = []\n",
    "\n",
    "with th.no_grad():\n",
    "    for batch, labels in (pbar:=tqdm(train_loader, desc=\"Batch\", position=0)):\n",
    "\n",
    "        batch = batch.to(device)\n",
    "        # batch = batch.view(1, 2, 512,1)\n",
    "        # labels = labels.to(device)\n",
    "\n",
    "        transformed = model_eff.forward(batch)\n",
    "        label_preds = (transformed.detach().cpu() >= .5).float().tolist()\n",
    "        # label_preds = 1 if th.sigmoid(transformed).detach().cpu() > 0.5 else 0 #th.argmax(transformed, dim=1)\n",
    "        scores.append(th.sigmoid(transformed).detach().cpu().tolist())\n",
    "        # lab.append(labels.detach().cpu().tolist())\n",
    "        label_output.append(label_preds)\n",
    "        # file_names.append(df_file_name.values) # cambio de objeto: file to file[0] otherwise the result of the file name is a list of one element (the name of the file lol...)\n",
    "    \n",
    "\n",
    "endTime = datetime.datetime.now()\n",
    "endTime_str = endTime.strftime('%Y-%m-%d_%H:%M:%S')\n",
    "print(\"[INFO] end time...\", str(endTime_str))\n",
    "finish_time = endTime-startTime\n",
    "print(\"[INFO] running time...\", str(finish_time))"
   ]
  },
  {
   "cell_type": "code",
   "execution_count": 19,
   "metadata": {},
   "outputs": [
    {
     "data": {
      "text/plain": [
       "[0.4885897934436798, 0.4885897934436798]"
      ]
     },
     "execution_count": 19,
     "metadata": {},
     "output_type": "execute_result"
    }
   ],
   "source": [
    "eff_scores = [item[0] for sublist in scores for item in sublist]\n",
    "eff_scores"
   ]
  },
  {
   "cell_type": "code",
   "execution_count": 20,
   "metadata": {},
   "outputs": [
    {
     "data": {
      "text/plain": [
       "[0.0, 0.0]"
      ]
     },
     "execution_count": 20,
     "metadata": {},
     "output_type": "execute_result"
    }
   ],
   "source": [
    "eff_label_output = [item[0] for sublist in label_output for item in sublist]\n",
    "eff_label_output"
   ]
  },
  {
   "cell_type": "code",
   "execution_count": 21,
   "metadata": {},
   "outputs": [
    {
     "data": {
      "text/html": [
       "<div>\n",
       "<style scoped>\n",
       "    .dataframe tbody tr th:only-of-type {\n",
       "        vertical-align: middle;\n",
       "    }\n",
       "\n",
       "    .dataframe tbody tr th {\n",
       "        vertical-align: top;\n",
       "    }\n",
       "\n",
       "    .dataframe thead th {\n",
       "        text-align: right;\n",
       "    }\n",
       "</style>\n",
       "<table border=\"1\" class=\"dataframe\">\n",
       "  <thead>\n",
       "    <tr style=\"text-align: right;\">\n",
       "      <th></th>\n",
       "      <th>file_name</th>\n",
       "      <th>labels</th>\n",
       "      <th>effb2-scores</th>\n",
       "    </tr>\n",
       "  </thead>\n",
       "  <tbody>\n",
       "    <tr>\n",
       "      <th>0</th>\n",
       "      <td>subject_a</td>\n",
       "      <td>0</td>\n",
       "      <td>0.48859</td>\n",
       "    </tr>\n",
       "    <tr>\n",
       "      <th>1</th>\n",
       "      <td>subject_b</td>\n",
       "      <td>1</td>\n",
       "      <td>0.48859</td>\n",
       "    </tr>\n",
       "  </tbody>\n",
       "</table>\n",
       "</div>"
      ],
      "text/plain": [
       "   file_name  labels  effb2-scores\n",
       "0  subject_a       0       0.48859\n",
       "1  subject_b       1       0.48859"
      ]
     },
     "execution_count": 21,
     "metadata": {},
     "output_type": "execute_result"
    }
   ],
   "source": [
    "effb2_pred_df = pd.DataFrame(data_.imgs, columns=[\"file_name\", \"labels\"])\n",
    "\n",
    "effb2_pred_df[\"file_name\"] = effb2_pred_df[\"file_name\"].str.replace(\"\\\\\", \"/\", regex=False)\n",
    "effb2_pred_df[\"file_name\"] = effb2_pred_df[\"file_name\"].str.split(\"/\", expand=True).iloc[:,4]\n",
    "effb2_pred_df[\"file_name\"] = effb2_pred_df[\"file_name\"].str.split(\".\", expand=True).iloc[:,0]\n",
    "\n",
    "eff_scores_df = pd.DataFrame(eff_scores, columns=[\"effb2-scores\"])\n",
    "# eff_label_output_df = pd.DataFrame(eff_label_output, columns=[\"eff-scores\"])\n",
    "\n",
    "effb2_pred_df = pd.concat([effb2_pred_df, eff_scores_df], axis=1)\n",
    "\n",
    "effb2_pred_df"
   ]
  },
  {
   "cell_type": "markdown",
   "metadata": {},
   "source": [
    "### **Mean and Max FFD estimation per subject**\n",
    "___"
   ]
  },
  {
   "cell_type": "code",
   "execution_count": 22,
   "metadata": {},
   "outputs": [
    {
     "data": {
      "text/html": [
       "<div>\n",
       "<style scoped>\n",
       "    .dataframe tbody tr th:only-of-type {\n",
       "        vertical-align: middle;\n",
       "    }\n",
       "\n",
       "    .dataframe tbody tr th {\n",
       "        vertical-align: top;\n",
       "    }\n",
       "\n",
       "    .dataframe thead th {\n",
       "        text-align: right;\n",
       "    }\n",
       "</style>\n",
       "<table border=\"1\" class=\"dataframe\">\n",
       "  <thead>\n",
       "    <tr style=\"text-align: right;\">\n",
       "      <th></th>\n",
       "      <th>file_name</th>\n",
       "      <th>labels</th>\n",
       "      <th>effb2-scores</th>\n",
       "      <th>frs-scores</th>\n",
       "      <th>max-scores</th>\n",
       "      <th>mean-scores</th>\n",
       "      <th>max-pred-lab</th>\n",
       "      <th>mean-pred-lab</th>\n",
       "    </tr>\n",
       "  </thead>\n",
       "  <tbody>\n",
       "    <tr>\n",
       "      <th>0</th>\n",
       "      <td>subject_a</td>\n",
       "      <td>0</td>\n",
       "      <td>0.48859</td>\n",
       "      <td>0.467755</td>\n",
       "      <td>0.48859</td>\n",
       "      <td>0.478172</td>\n",
       "      <td>0</td>\n",
       "      <td>0</td>\n",
       "    </tr>\n",
       "    <tr>\n",
       "      <th>1</th>\n",
       "      <td>subject_b</td>\n",
       "      <td>1</td>\n",
       "      <td>0.48859</td>\n",
       "      <td>0.468307</td>\n",
       "      <td>0.48859</td>\n",
       "      <td>0.478449</td>\n",
       "      <td>0</td>\n",
       "      <td>0</td>\n",
       "    </tr>\n",
       "  </tbody>\n",
       "</table>\n",
       "</div>"
      ],
      "text/plain": [
       "   file_name  labels  effb2-scores  frs-scores  max-scores  mean-scores  \\\n",
       "0  subject_a       0       0.48859    0.467755     0.48859     0.478172   \n",
       "1  subject_b       1       0.48859    0.468307     0.48859     0.478449   \n",
       "\n",
       "   max-pred-lab  mean-pred-lab  \n",
       "0             0              0  \n",
       "1             0              0  "
      ]
     },
     "execution_count": 22,
     "metadata": {},
     "output_type": "execute_result"
    }
   ],
   "source": [
    "final_pred_df = pd.merge(effb2_pred_df, pred_df[[\"file_name\",\"frs-scores\"]], \n",
    "         how=\"left\", on=\"file_name\")\n",
    "\n",
    "final_pred_df[\"max-scores\"] = final_pred_df[[\"effb2-scores\", \"frs-scores\"]].max(axis=1)\n",
    "final_pred_df[\"mean-scores\"] = final_pred_df[[\"effb2-scores\", \"frs-scores\"]].mean(axis=1)\n",
    "\n",
    "final_pred_df[\"max-pred-lab\"] = (final_pred_df[\"max-scores\"] >= .5).astype(int)\n",
    "final_pred_df[\"mean-pred-lab\"] = (final_pred_df[\"mean-scores\"] >= .5).astype(int)\n",
    "\n",
    "final_pred_df"
   ]
  }
 ],
 "metadata": {
  "kernelspec": {
   "display_name": "FitIris-FRS",
   "language": "python",
   "name": "python3"
  },
  "language_info": {
   "codemirror_mode": {
    "name": "ipython",
    "version": 3
   },
   "file_extension": ".py",
   "mimetype": "text/x-python",
   "name": "python",
   "nbconvert_exporter": "python",
   "pygments_lexer": "ipython3",
   "version": "3.13.2"
  }
 },
 "nbformat": 4,
 "nbformat_minor": 2
}
